{
 "cells": [
  {
   "cell_type": "code",
   "execution_count": 2,
   "metadata": {},
   "outputs": [
    {
     "name": "stdout",
     "output_type": "stream",
     "text": [
      "Collecting sqlalchemyNote: you may need to restart the kernel to use updated packages.\n",
      "\n",
      "  Downloading SQLAlchemy-2.0.31-cp312-cp312-win_amd64.whl.metadata (9.9 kB)\n",
      "Requirement already satisfied: typing-extensions>=4.6.0 in c:\\users\\jiebing\\appdata\\local\\programs\\python\\python312\\lib\\site-packages (from sqlalchemy) (4.9.0)\n",
      "Collecting greenlet!=0.4.17 (from sqlalchemy)\n",
      "  Downloading greenlet-3.0.3-cp312-cp312-win_amd64.whl.metadata (3.9 kB)\n",
      "Downloading SQLAlchemy-2.0.31-cp312-cp312-win_amd64.whl (2.1 MB)\n",
      "   ---------------------------------------- 0.0/2.1 MB ? eta -:--:--\n",
      "   ---------------------------------------- 0.0/2.1 MB ? eta -:--:--\n",
      "    --------------------------------------- 0.0/2.1 MB 495.5 kB/s eta 0:00:05\n",
      "   ----------- ---------------------------- 0.6/2.1 MB 4.7 MB/s eta 0:00:01\n",
      "   -------------- ------------------------- 0.8/2.1 MB 6.0 MB/s eta 0:00:01\n",
      "   ------------------------ --------------- 1.3/2.1 MB 7.4 MB/s eta 0:00:01\n",
      "   -------------------------------- ------- 1.7/2.1 MB 6.8 MB/s eta 0:00:01\n",
      "   ---------------------------------------  2.1/2.1 MB 7.8 MB/s eta 0:00:01\n",
      "   ---------------------------------------- 2.1/2.1 MB 6.6 MB/s eta 0:00:00\n",
      "Downloading greenlet-3.0.3-cp312-cp312-win_amd64.whl (293 kB)\n",
      "   ---------------------------------------- 0.0/293.6 kB ? eta -:--:--\n",
      "   ---------------------------------------- 293.6/293.6 kB 9.1 MB/s eta 0:00:00\n",
      "Installing collected packages: greenlet, sqlalchemy\n",
      "Successfully installed greenlet-3.0.3 sqlalchemy-2.0.31\n"
     ]
    },
    {
     "name": "stderr",
     "output_type": "stream",
     "text": [
      "\n",
      "[notice] A new release of pip is available: 23.3.2 -> 24.1.2\n",
      "[notice] To update, run: python.exe -m pip install --upgrade pip\n"
     ]
    }
   ],
   "source": [
    "pip install sqlalchemy"
   ]
  },
  {
   "cell_type": "code",
   "execution_count": 3,
   "metadata": {},
   "outputs": [
    {
     "name": "stderr",
     "output_type": "stream",
     "text": [
      "C:\\Users\\jiebing\\AppData\\Local\\Temp\\ipykernel_2860\\3053180682.py:10: MovedIn20Warning: The ``declarative_base()`` function is now available as sqlalchemy.orm.declarative_base(). (deprecated since: 2.0) (Background on SQLAlchemy 2.0 at: https://sqlalche.me/e/b8d9)\n",
      "  Base = declarative_base()\n"
     ]
    }
   ],
   "source": [
    "from sqlalchemy import create_engine, Column, Integer, String, DateTime\n",
    "from sqlalchemy.ext.declarative import declarative_base\n",
    "from sqlalchemy.orm import sessionmaker\n",
    "from datetime import datetime\n",
    "\n",
    "# データベースエンジンの作成\n",
    "engine = create_engine('sqlite:///dogwalk.db', echo=True)\n",
    "\n",
    "# ベースクラスの作成\n",
    "Base = declarative_base()\n"
   ]
  },
  {
   "cell_type": "code",
   "execution_count": 4,
   "metadata": {},
   "outputs": [],
   "source": [
    "# usersテーブルの定義\n",
    "class User(Base):\n",
    "    __tablename__ = 'users'\n",
    "    id = Column(Integer, primary_key=True, autoincrement=True)\n",
    "    name = Column(String, nullable=False)\n",
    "    email = Column(String, nullable=False, unique=True)\n",
    "    created_at = Column(DateTime, nullable=False, default=datetime.utcnow)\n"
   ]
  },
  {
   "cell_type": "code",
   "execution_count": 5,
   "metadata": {},
   "outputs": [
    {
     "name": "stdout",
     "output_type": "stream",
     "text": [
      "2024-07-27 11:58:59,146 INFO sqlalchemy.engine.Engine BEGIN (implicit)\n",
      "2024-07-27 11:58:59,150 INFO sqlalchemy.engine.Engine PRAGMA main.table_info(\"users\")\n",
      "2024-07-27 11:58:59,150 INFO sqlalchemy.engine.Engine [raw sql] ()\n",
      "2024-07-27 11:58:59,157 INFO sqlalchemy.engine.Engine PRAGMA temp.table_info(\"users\")\n",
      "2024-07-27 11:58:59,157 INFO sqlalchemy.engine.Engine [raw sql] ()\n",
      "2024-07-27 11:58:59,165 INFO sqlalchemy.engine.Engine \n",
      "CREATE TABLE users (\n",
      "\tid INTEGER NOT NULL, \n",
      "\tname VARCHAR NOT NULL, \n",
      "\temail VARCHAR NOT NULL, \n",
      "\tcreated_at DATETIME NOT NULL, \n",
      "\tPRIMARY KEY (id), \n",
      "\tUNIQUE (email)\n",
      ")\n",
      "\n",
      "\n",
      "2024-07-27 11:58:59,168 INFO sqlalchemy.engine.Engine [no key 0.00268s] ()\n",
      "2024-07-27 11:58:59,184 INFO sqlalchemy.engine.Engine COMMIT\n"
     ]
    }
   ],
   "source": [
    "# テーブルの作成\n",
    "Base.metadata.create_all(engine)\n"
   ]
  },
  {
   "cell_type": "code",
   "execution_count": 6,
   "metadata": {},
   "outputs": [],
   "source": [
    "# セッションの作成\n",
    "Session = sessionmaker(bind=engine)\n",
    "session = Session()\n"
   ]
  },
  {
   "cell_type": "code",
   "execution_count": 7,
   "metadata": {},
   "outputs": [
    {
     "name": "stdout",
     "output_type": "stream",
     "text": [
      "2024-07-27 12:03:25,450 INFO sqlalchemy.engine.Engine BEGIN (implicit)\n",
      "2024-07-27 12:03:25,458 INFO sqlalchemy.engine.Engine INSERT INTO users (name, email, created_at) VALUES (?, ?, ?)\n",
      "2024-07-27 12:03:25,459 INFO sqlalchemy.engine.Engine [generated in 0.00146s] ('Nakamizo Eiko', 'eiko.nakamizo.2021@globis.ac.jp', '2024-07-27 03:03:25.458593')\n",
      "2024-07-27 12:03:25,471 INFO sqlalchemy.engine.Engine COMMIT\n",
      "2024-07-27 12:03:25,483 INFO sqlalchemy.engine.Engine BEGIN (implicit)\n",
      "2024-07-27 12:03:25,483 INFO sqlalchemy.engine.Engine INSERT INTO users (name, email, created_at) VALUES (?, ?, ?)\n",
      "2024-07-27 12:03:25,483 INFO sqlalchemy.engine.Engine [cached since 0.02926s ago] ('Chen Jiebing', 'jiebing.chen.2020@globis.ac.jp', '2024-07-27 03:03:25.483457')\n",
      "2024-07-27 12:03:25,491 INFO sqlalchemy.engine.Engine COMMIT\n",
      "2024-07-27 12:03:25,500 INFO sqlalchemy.engine.Engine BEGIN (implicit)\n",
      "2024-07-27 12:03:25,501 INFO sqlalchemy.engine.Engine INSERT INTO users (name, email, created_at) VALUES (?, ?, ?)\n",
      "2024-07-27 12:03:25,504 INFO sqlalchemy.engine.Engine [cached since 0.04683s ago] ('Itaya Shota', 'itashou21@gmail.com', '2024-07-27 03:03:25.501591')\n",
      "2024-07-27 12:03:25,506 INFO sqlalchemy.engine.Engine COMMIT\n",
      "2024-07-27 12:03:25,521 INFO sqlalchemy.engine.Engine BEGIN (implicit)\n",
      "2024-07-27 12:03:25,521 INFO sqlalchemy.engine.Engine INSERT INTO users (name, email, created_at) VALUES (?, ?, ?)\n",
      "2024-07-27 12:03:25,524 INFO sqlalchemy.engine.Engine [cached since 0.06704s ago] ('Furukawa Akihisa', 'akihisa.furukawa@gmail.com', '2024-07-27 03:03:25.521022')\n",
      "2024-07-27 12:03:25,530 INFO sqlalchemy.engine.Engine COMMIT\n"
     ]
    }
   ],
   "source": [
    "# ユーザーを追加する関数\n",
    "def add_user(name, email):\n",
    "    new_user = User(name=name, email=email)\n",
    "    session.add(new_user)\n",
    "    session.commit()\n",
    "\n",
    "# ユーザーの追加\n",
    "add_user('Nakamizo Eiko', 'eiko.nakamizo.2021@globis.ac.jp')\n",
    "add_user('Chen Jiebing', 'jiebing.chen.2020@globis.ac.jp')\n",
    "add_user('Itaya Shota', 'itashou21@gmail.com')\n",
    "add_user('Furukawa Akihisa', 'akihisa.furukawa@gmail.com')"
   ]
  },
  {
   "cell_type": "code",
   "execution_count": 8,
   "metadata": {},
   "outputs": [
    {
     "name": "stdout",
     "output_type": "stream",
     "text": [
      "2024-07-27 12:03:33,365 INFO sqlalchemy.engine.Engine BEGIN (implicit)\n",
      "2024-07-27 12:03:33,373 INFO sqlalchemy.engine.Engine SELECT users.id AS users_id, users.name AS users_name, users.email AS users_email, users.created_at AS users_created_at \n",
      "FROM users\n",
      "2024-07-27 12:03:33,376 INFO sqlalchemy.engine.Engine [generated in 0.00354s] ()\n",
      "ID: 1, Name: Nakamizo Eiko, Email: eiko.nakamizo.2021@globis.ac.jp, Created at: 2024-07-27 03:03:25.458593\n",
      "ID: 2, Name: Chen Jiebing, Email: jiebing.chen.2020@globis.ac.jp, Created at: 2024-07-27 03:03:25.483457\n",
      "ID: 3, Name: Itaya Shota, Email: itashou21@gmail.com, Created at: 2024-07-27 03:03:25.501591\n",
      "ID: 4, Name: Furukawa Akihisa, Email: akihisa.furukawa@gmail.com, Created at: 2024-07-27 03:03:25.521022\n"
     ]
    }
   ],
   "source": [
    "# 全ユーザーを取得する関数\n",
    "def get_all_users():\n",
    "    return session.query(User).all()\n",
    "\n",
    "# ユーザーの取得と表示\n",
    "users = get_all_users()\n",
    "for user in users:\n",
    "    print(f'ID: {user.id}, Name: {user.name}, Email: {user.email}, Created at: {user.created_at}')\n"
   ]
  },
  {
   "cell_type": "code",
   "execution_count": 9,
   "metadata": {},
   "outputs": [
    {
     "name": "stdout",
     "output_type": "stream",
     "text": [
      "2024-07-27 12:04:05,028 INFO sqlalchemy.engine.Engine ROLLBACK\n"
     ]
    }
   ],
   "source": [
    "# セッションの閉鎖\n",
    "session.close()\n"
   ]
  }
 ],
 "metadata": {
  "kernelspec": {
   "display_name": "Python 3",
   "language": "python",
   "name": "python3"
  },
  "language_info": {
   "codemirror_mode": {
    "name": "ipython",
    "version": 3
   },
   "file_extension": ".py",
   "mimetype": "text/x-python",
   "name": "python",
   "nbconvert_exporter": "python",
   "pygments_lexer": "ipython3",
   "version": "3.12.1"
  }
 },
 "nbformat": 4,
 "nbformat_minor": 2
}
